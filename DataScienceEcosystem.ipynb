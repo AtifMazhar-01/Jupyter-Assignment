{
 "cells": [
  {
   "cell_type": "markdown",
   "id": "19d84692-ee6b-4319-bd80-c172f29a3e23",
   "metadata": {},
   "source": [
    "# Data Science Tools and Ecosystem\n"
   ]
  },
  {
   "cell_type": "markdown",
   "id": "1a7ec606-17c6-4970-9ac7-0d22afb34a05",
   "metadata": {},
   "source": [
    "## In this notebook, Data Science Tools and Ecosystem are summarized."
   ]
  },
  {
   "cell_type": "markdown",
   "id": "48d15cce-b342-4f36-9129-36adf966220e",
   "metadata": {},
   "source": [
    "### Some of the popular languages that Data Scientists use are:\n",
    "1. Python\n",
    "2. SQL\n",
    "3. VBA (Visual Basic for Applications)\n",
    "4. Julia\n",
    "5. JavaScript\n",
    "6. Java\n",
    "7. Scala"
   ]
  },
  {
   "cell_type": "markdown",
   "id": "837c3560-9986-4aa8-8fba-561398e06087",
   "metadata": {},
   "source": [
    "### Some of the commonly used libraries used by Data Scientists include:\n",
    "1. TensorFlow\n",
    "2. NumPy\n",
    "3. SciPy \n",
    "4. Pandas\n",
    "5. Matplotlib \n",
    "6. Keras\n",
    "7. SciKit-Learn\n",
    "8. PyTorch"
   ]
  },
  {
   "cell_type": "markdown",
   "id": "a818fe10-5d70-4965-95f0-f2f57f756887",
   "metadata": {},
   "source": [
    "| Data Science Tools |\n",
    "|--------------------|\n",
    "|Jupyter Notebook|\n",
    "|RStudio|\n",
    "|VS Code|\n"
   ]
  },
  {
   "cell_type": "markdown",
   "id": "fc527ad0-55e0-4f83-8ab6-e57e5bd3fc09",
   "metadata": {},
   "source": [
    "### Below are a few examples of evaluating arithmetic expressions in Python"
   ]
  },
  {
   "cell_type": "code",
   "execution_count": 3,
   "id": "8ca4bdbc-6166-48ff-b783-5f713c46616b",
   "metadata": {},
   "outputs": [
    {
     "data": {
      "text/plain": [
       "17"
      ]
     },
     "execution_count": 3,
     "metadata": {},
     "output_type": "execute_result"
    }
   ],
   "source": [
    "# This is a simple arithmetic expression to multiply then add integers\n",
    "(3 * 4) + 5\n"
   ]
  },
  {
   "cell_type": "code",
   "execution_count": 4,
   "id": "fa7e2018-0343-4fb5-b855-6c4c7b0f4b64",
   "metadata": {},
   "outputs": [
    {
     "data": {
      "text/plain": [
       "3.3333333333333335"
      ]
     },
     "execution_count": 4,
     "metadata": {},
     "output_type": "execute_result"
    }
   ],
   "source": [
    "# This will convert 200 minutes to hours\n",
    "200 / 60\n"
   ]
  },
  {
   "cell_type": "markdown",
   "id": "275f2db1-8d08-49f6-81e8-b3077aa7279d",
   "metadata": {},
   "source": [
    "**Objectives:**\n",
    "\n",
    "- List popular languages for Data Science  \n",
    "- Explain the concept of arithmetic expressions in Python  \n",
    "- Convert units (e.g., minutes to hours) using Python expressions  \n",
    "- Write and understand comments in Python code cells  \n",
    "- Use Markdown to format text in Jupyter Notebooks  \n"
   ]
  },
  {
   "cell_type": "markdown",
   "id": "12cbe82b-02b5-443a-ab25-efd4959378e8",
   "metadata": {},
   "source": [
    "## Author\n",
    "Atif Mazhar\n"
   ]
  },
  {
   "cell_type": "code",
   "execution_count": null,
   "id": "4aec520d-37d8-4281-a162-7df820be19cb",
   "metadata": {},
   "outputs": [],
   "source": []
  },
  {
   "cell_type": "code",
   "execution_count": null,
   "id": "d626716c-eb4a-4f67-86b0-369c7b90d378",
   "metadata": {},
   "outputs": [],
   "source": []
  }
 ],
 "metadata": {
  "kernelspec": {
   "display_name": "Python 3 (ipykernel)",
   "language": "python",
   "name": "python3"
  },
  "language_info": {
   "codemirror_mode": {
    "name": "ipython",
    "version": 3
   },
   "file_extension": ".py",
   "mimetype": "text/x-python",
   "name": "python",
   "nbconvert_exporter": "python",
   "pygments_lexer": "ipython3",
   "version": "3.12.8"
  }
 },
 "nbformat": 4,
 "nbformat_minor": 5
}
